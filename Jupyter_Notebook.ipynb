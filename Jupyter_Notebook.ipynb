{
  "metadata": {
    "language_info": {
      "codemirror_mode": {
        "name": "python",
        "version": 3
      },
      "file_extension": ".py",
      "mimetype": "text/x-python",
      "name": "python",
      "nbconvert_exporter": "python",
      "pygments_lexer": "ipython3",
      "version": "3.8"
    },
    "kernelspec": {
      "name": "python",
      "display_name": "Pyolite",
      "language": "python"
    }
  },
  "nbformat_minor": 4,
  "nbformat": 4,
  "cells": [
    {
      "cell_type": "markdown",
      "source": "# My Jupyter Notebook on IBM Watson Studio",
      "metadata": {}
    },
    {
      "cell_type": "markdown",
      "source": "**Juliana Marcia Mariano**",
      "metadata": {}
    },
    {
      "cell_type": "markdown",
      "source": "Studant",
      "metadata": {}
    },
    {
      "cell_type": "markdown",
      "source": "_I'm interested in data science because I'm passionate about the career and I think it's amazing the way data science can make people's lives better._ ",
      "metadata": {}
    },
    {
      "cell_type": "markdown",
      "source": "### Below you will see a sum between two integers",
      "metadata": {}
    },
    {
      "cell_type": "code",
      "source": "45 + 25 ",
      "metadata": {
        "trusted": true
      },
      "execution_count": 3,
      "outputs": [
        {
          "execution_count": 3,
          "output_type": "execute_result",
          "data": {
            "text/plain": "70"
          },
          "metadata": {}
        }
      ]
    },
    {
      "cell_type": "markdown",
      "source": "------------------------------------------------------------------------------------------------",
      "metadata": {}
    },
    {
      "cell_type": "markdown",
      "source": "* Zed\n* Yummy\n* Lizzy\n\n",
      "metadata": {}
    },
    {
      "cell_type": "markdown",
      "source": "<a href=\"https://dataplatform.cloud.ibm.com/gallery\">IBM Cloud Gallery</a> ",
      "metadata": {}
    },
    {
      "cell_type": "markdown",
      "source": "1. Banana\n2. Apple\n3. Pear\n",
      "metadata": {}
    }
  ]
}